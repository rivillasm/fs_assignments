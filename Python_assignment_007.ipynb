{
 "cells": [
  {
   "cell_type": "markdown",
   "metadata": {},
   "source": [
    "# Python Basics - Assignment 007"
   ]
  },
  {
   "cell_type": "markdown",
   "metadata": {},
   "source": [
    "1. What is the name of the feature responsible for generating Regex objects?"
   ]
  },
  {
   "cell_type": "code",
   "execution_count": 8,
   "metadata": {},
   "outputs": [
    {
     "data": {
      "text/plain": [
       "['The rain in Spain']"
      ]
     },
     "execution_count": 8,
     "metadata": {},
     "output_type": "execute_result"
    }
   ],
   "source": [
    "# A RegEx, or Regular Expression, is a sequence of characters that forms a search pattern.\n",
    "# RegEx can be used to check if a string contains the specified search pattern.\n",
    "\n",
    "import re\n",
    "txt = \"The rain in Spain\"\n",
    "x = re.findall(\"^The.*Spain$\", txt)\n",
    "x"
   ]
  },
  {
   "cell_type": "markdown",
   "metadata": {},
   "source": [
    "2. Why do raw strings often appear in Regex objects?"
   ]
  },
  {
   "cell_type": "raw",
   "metadata": {},
   "source": [
    "raw strings are raw string literals that treat backslash (\\ ) as a literal character. For example, if we try to print a string with a “\\n” inside, it will add one line break. But if we mark it as a raw string, it will simply print out the “\\n” as a normal character. Python raw strings are useful for writing regular expressions and for using with SQL parsers.\n",
    "\n",
    "Python raw strings are prefixed with ‘r’ or ‘R’. Prefix a string with ‘R’ or ‘r’ and it will be treated as a raw string. Let me show you an example :"
   ]
  },
  {
   "cell_type": "raw",
   "metadata": {},
   "source": [
    "Raw strings are used so that backslashes do not have to be escaped"
   ]
  },
  {
   "cell_type": "code",
   "execution_count": 10,
   "metadata": {},
   "outputs": [
    {
     "name": "stdout",
     "output_type": "stream",
     "text": [
      "This is a \n",
      " normal string\n"
     ]
    }
   ],
   "source": [
    "dummy_str = \"This is a \\n normal string\"\n",
    "print(dummy_str)"
   ]
  },
  {
   "cell_type": "code",
   "execution_count": 11,
   "metadata": {},
   "outputs": [
    {
     "name": "stdout",
     "output_type": "stream",
     "text": [
      "This is a \\n raw string\n"
     ]
    }
   ],
   "source": [
    "raw_dummy_str = r\"This is a \\n raw string\"\n",
    "print(raw_dummy_str)"
   ]
  },
  {
   "cell_type": "markdown",
   "metadata": {},
   "source": [
    "3. What is the return value of the search() method?"
   ]
  },
  {
   "cell_type": "code",
   "execution_count": 12,
   "metadata": {},
   "outputs": [
    {
     "name": "stdout",
     "output_type": "stream",
     "text": [
      "None\n"
     ]
    }
   ],
   "source": [
    "import re\n",
    "\n",
    "txt = \"The rain in Spain\"\n",
    "x = re.search(\"Portugal\", txt)    # if not match is found returns None\n",
    "print(x)"
   ]
  },
  {
   "cell_type": "code",
   "execution_count": 15,
   "metadata": {},
   "outputs": [
    {
     "name": "stdout",
     "output_type": "stream",
     "text": [
      "<_sre.SRE_Match object; span=(4, 8), match='rain'>\n"
     ]
    }
   ],
   "source": [
    "txt = \"The rain in Spain\"\n",
    "x = re.search(\"rain\", txt)        # if match is found returns a match object\n",
    "print(x)"
   ]
  },
  {
   "cell_type": "raw",
   "metadata": {},
   "source": [
    "The search() function searches the string for a match, and returns a Match object if there is a match.\n",
    "If there is more than one match, only the first occurrence of the match will be returned:"
   ]
  },
  {
   "cell_type": "markdown",
   "metadata": {},
   "source": [
    "4. From a Match item, how do you get the actual strings that match the pattern?\n"
   ]
  },
  {
   "cell_type": "raw",
   "metadata": {},
   "source": [
    "Match Object\n",
    "A Match Object is an object containing information about the search and the result.\n",
    "\n",
    "The Match object has properties and methods used to retrieve information about the search, and the result:\n",
    "\n",
    ".span() returns a tuple containing the start-, and end positions of the match.\n",
    ".string returns the string passed into the function\n",
    ".group() returns the part of the string where there was a match"
   ]
  },
  {
   "cell_type": "code",
   "execution_count": 16,
   "metadata": {},
   "outputs": [
    {
     "data": {
      "text/plain": [
       "'rain'"
      ]
     },
     "execution_count": 16,
     "metadata": {},
     "output_type": "execute_result"
    }
   ],
   "source": [
    "txt = \"The rain in Spain\"\n",
    "x = re.search(\"rain\", txt)        # if match is found returns a match object\n",
    "x.group()                         # match_object.group() returns the matched string"
   ]
  },
  {
   "cell_type": "markdown",
   "metadata": {},
   "source": [
    "5. In the regex which created from the r&#39;(\\d\\d\\d)-(\\d\\d\\d-\\d\\d\\d\\d)&#39;, what does group zero cover?\n",
    "Group 2? Group 1?\n"
   ]
  },
  {
   "cell_type": "code",
   "execution_count": null,
   "metadata": {},
   "outputs": [],
   "source": [
    "Group 0: (\\d\\d\\d)-(\\d\\d\\d-\\d\\d\\d\\d)  \n",
    "Group 1: (\\d\\d\\d)             # The 1st set of parentheses in a regex string will be group 1.\n",
    "Group 2: (\\d\\d\\d-\\d\\d\\d\\d)    # The 2nd set of parentheses will be group 2"
   ]
  },
  {
   "cell_type": "code",
   "execution_count": 26,
   "metadata": {},
   "outputs": [],
   "source": [
    "# Python’s re.compile() method is used to compile a regular expression pattern provided \n",
    "# as a string into a regex pattern object (re.Pattern).\n",
    "phoneNum = re.compile(r'(\\d\\d\\d)-(\\d\\d\\d-\\d\\d\\d\\d)')   \n",
    "match_obj = phoneNum.search('My number is 403-568-5537.')"
   ]
  },
  {
   "cell_type": "code",
   "execution_count": 27,
   "metadata": {},
   "outputs": [
    {
     "data": {
      "text/plain": [
       "'403-568-5537'"
      ]
     },
     "execution_count": 27,
     "metadata": {},
     "output_type": "execute_result"
    }
   ],
   "source": [
    "match_obj.group(0)   # will return the entire matched text"
   ]
  },
  {
   "cell_type": "code",
   "execution_count": 28,
   "metadata": {},
   "outputs": [
    {
     "data": {
      "text/plain": [
       "'403'"
      ]
     },
     "execution_count": 28,
     "metadata": {},
     "output_type": "execute_result"
    }
   ],
   "source": [
    "match_obj.group(1)  # will return the text in the 1st set of parentheses"
   ]
  },
  {
   "cell_type": "code",
   "execution_count": 29,
   "metadata": {},
   "outputs": [
    {
     "data": {
      "text/plain": [
       "'568-5537'"
      ]
     },
     "execution_count": 29,
     "metadata": {},
     "output_type": "execute_result"
    }
   ],
   "source": [
    "match_obj.group(2)  # will return the text in the 2nd set of parentheses"
   ]
  },
  {
   "cell_type": "markdown",
   "metadata": {},
   "source": [
    "6. In standard expression syntax, parentheses and intervals have distinct meanings. How can you tell\n",
    "a regex that you want it to fit real parentheses and periods?\n"
   ]
  },
  {
   "cell_type": "raw",
   "metadata": {},
   "source": [
    "when you literally want a period and parentheses in a regular expression you need to precede it with a backslash \\."
   ]
  },
  {
   "cell_type": "markdown",
   "metadata": {},
   "source": [
    "7. The findall() method returns a string list or a list of string tuples. What causes it to return one of\n",
    "the two options?\n"
   ]
  },
  {
   "cell_type": "code",
   "execution_count": 30,
   "metadata": {},
   "outputs": [
    {
     "data": {
      "text/plain": [
       "[('403', '568-5537')]"
      ]
     },
     "execution_count": 30,
     "metadata": {},
     "output_type": "execute_result"
    }
   ],
   "source": [
    "phoneNum = re.compile(r'(\\d\\d\\d)-(\\d\\d\\d-\\d\\d\\d\\d)')          # regex with groups\n",
    "match_obj = phoneNum.findall('My number is 403-568-5537.')    # findall  returns a list of tuples\n",
    "match_obj                                                     # one string for each group"
   ]
  },
  {
   "cell_type": "code",
   "execution_count": 31,
   "metadata": {},
   "outputs": [
    {
     "data": {
      "text/plain": [
       "['403-568-5537']"
      ]
     },
     "execution_count": 31,
     "metadata": {},
     "output_type": "execute_result"
    }
   ],
   "source": [
    "phoneNum = re.compile(r'\\d\\d\\d-\\d\\d\\d-\\d\\d\\d\\d')              # regex without groups\n",
    "match_obj = phoneNum.findall('My number is 403-568-5537.')    # findall  returns a list of strings \n",
    "match_obj"
   ]
  },
  {
   "cell_type": "markdown",
   "metadata": {},
   "source": [
    "8. In standard expressions, what does the | character mean?\n"
   ]
  },
  {
   "cell_type": "markdown",
   "metadata": {},
   "source": [
    "The | character is called a pipe. You can use it anywhere you want to match one of many expressions. For example, the regular expression r’Batman|Tina Fey’ will match either ‘Batman’ or ‘Tina Fey’.\n",
    "\n",
    "When both Batman and Tina Fey occur in the searched string, the first occurrence of matching text will be returned as the Match object. \n",
    "\n"
   ]
  },
  {
   "cell_type": "code",
   "execution_count": 32,
   "metadata": {},
   "outputs": [
    {
     "name": "stdout",
     "output_type": "stream",
     "text": [
      "Batman\n"
     ]
    }
   ],
   "source": [
    "# Python program to illustrate Matching regex objects with multiple Groups with the Pipe\n",
    "\n",
    "import re\n",
    "pipeRegex = re.compile (r'Batman|Tina Fey')\n",
    "mo1 = pipeRegex.search('Batman and Tina Fey.')  # the first matching will be returned.\n",
    "print(mo1.group())"
   ]
  },
  {
   "cell_type": "code",
   "execution_count": 37,
   "metadata": {},
   "outputs": [
    {
     "name": "stdout",
     "output_type": "stream",
     "text": [
      "Tina Fey\n"
     ]
    }
   ],
   "source": [
    "import re\n",
    "pipeRegex = re.compile (r'Batman|Tina Fey')\n",
    "mo1 = pipeRegex.search('Tina Fey and  Batman.') # the first matching will be returned.\n",
    "print(mo1.group())"
   ]
  },
  {
   "cell_type": "markdown",
   "metadata": {},
   "source": [
    "9. In regular expressions, what does the character stand for?\n"
   ]
  },
  {
   "cell_type": "code",
   "execution_count": null,
   "metadata": {},
   "outputs": [],
   "source": []
  },
  {
   "cell_type": "markdown",
   "metadata": {},
   "source": [
    "10.In regular expressions, what is the difference between the + and * characters?"
   ]
  },
  {
   "cell_type": "code",
   "execution_count": null,
   "metadata": {},
   "outputs": [],
   "source": []
  },
  {
   "cell_type": "markdown",
   "metadata": {},
   "source": [
    "11. What is the difference between {4} and {4,5} in regular expression?\n"
   ]
  },
  {
   "cell_type": "code",
   "execution_count": null,
   "metadata": {},
   "outputs": [],
   "source": []
  },
  {
   "cell_type": "markdown",
   "metadata": {},
   "source": [
    "12. What do you mean by the \\d, \\w, and \\s shorthand character classes signify in regular\n",
    "expressions?"
   ]
  },
  {
   "cell_type": "code",
   "execution_count": null,
   "metadata": {},
   "outputs": [],
   "source": []
  },
  {
   "cell_type": "markdown",
   "metadata": {},
   "source": [
    "13. What do means by \\D, \\W, and \\S shorthand character classes signify in regular expressions?"
   ]
  },
  {
   "cell_type": "code",
   "execution_count": null,
   "metadata": {},
   "outputs": [],
   "source": []
  },
  {
   "cell_type": "markdown",
   "metadata": {},
   "source": [
    "14. What is the difference between .*? and .*?"
   ]
  },
  {
   "cell_type": "code",
   "execution_count": null,
   "metadata": {},
   "outputs": [],
   "source": []
  },
  {
   "cell_type": "markdown",
   "metadata": {},
   "source": [
    "15. What is the syntax for matching both numbers and lowercase letters with a character class?"
   ]
  },
  {
   "cell_type": "code",
   "execution_count": null,
   "metadata": {},
   "outputs": [],
   "source": []
  },
  {
   "cell_type": "markdown",
   "metadata": {},
   "source": [
    "16. What is the procedure for making a normal expression in regax case insensitive?\n"
   ]
  },
  {
   "cell_type": "code",
   "execution_count": null,
   "metadata": {},
   "outputs": [],
   "source": []
  },
  {
   "cell_type": "markdown",
   "metadata": {},
   "source": [
    "17. What does the . character normally match? What does it match if re.DOTALL is passed as 2nd\n",
    "argument in re.compile()?\n"
   ]
  },
  {
   "cell_type": "code",
   "execution_count": null,
   "metadata": {},
   "outputs": [],
   "source": []
  },
  {
   "cell_type": "markdown",
   "metadata": {},
   "source": [
    "18. If numReg = re.compile(r&#39;\\d+&#39;), what will numRegex.sub(&#39;X&#39;, &#39;11 drummers, 10 pipers, five rings, 4\n",
    "hen&#39;) return?"
   ]
  },
  {
   "cell_type": "code",
   "execution_count": null,
   "metadata": {},
   "outputs": [],
   "source": []
  },
  {
   "cell_type": "markdown",
   "metadata": {},
   "source": [
    "19. What does passing re.VERBOSE as the 2nd argument to re.compile() allow to do?"
   ]
  },
  {
   "cell_type": "code",
   "execution_count": null,
   "metadata": {},
   "outputs": [],
   "source": []
  },
  {
   "cell_type": "markdown",
   "metadata": {},
   "source": [
    "20. How would you write a regex that match a number with comma for every three digits? It must\n",
    "match the given following:\n",
    "&#39;42&#39;\n",
    "&#39;1,234&#39;\n",
    "&#39;6,368,745&#39;\n",
    "\n",
    "but not the following:\n",
    "&#39;12,34,567&#39; (which has only two digits between the commas)\n",
    "&#39;1234&#39; (which lacks commas)"
   ]
  },
  {
   "cell_type": "code",
   "execution_count": null,
   "metadata": {},
   "outputs": [],
   "source": []
  },
  {
   "cell_type": "markdown",
   "metadata": {},
   "source": [
    "21. How would you write a regex that matches the full name of someone whose last name is\n",
    "Watanabe? You can assume that the first name that comes before it will always be one word that\n",
    "begins with a capital letter. The regex must match the following:\n",
    "&#39;Haruto Watanabe&#39;\n",
    "&#39;Alice Watanabe&#39;\n",
    "&#39;RoboCop Watanabe&#39;\n",
    "but not the following:\n",
    "&#39;haruto Watanabe&#39; (where the first name is not capitalized)\n",
    "&#39;Mr. Watanabe&#39; (where the preceding word has a nonletter character)\n",
    "&#39;Watanabe&#39; (which has no first name)\n",
    "&#39;Haruto watanabe&#39; (where Watanabe is not capitalized)"
   ]
  },
  {
   "cell_type": "code",
   "execution_count": null,
   "metadata": {},
   "outputs": [],
   "source": []
  },
  {
   "cell_type": "markdown",
   "metadata": {},
   "source": [
    "22. How would you write a regex that matches a sentence where the first word is either Alice, Bob,\n",
    "or Carol; the second word is either eats, pets, or throws; the third word is apples, cats, or baseballs;\n",
    "and the sentence ends with a period? This regex should be case-insensitive. It must match the\n",
    "following:\n",
    "&#39;Alice eats apples.&#39;\n",
    "&#39;Bob pets cats.&#39;\n",
    "&#39;Carol throws baseballs.&#39;\n",
    "&#39;Alice throws Apples.&#39;\n",
    "&#39;BOB EATS CATS.&#39;\n",
    "but not the following:\n",
    "&#39;RoboCop eats apples.&#39;\n",
    "&#39;ALICE THROWS FOOTBALLS.&#39;\n",
    "&#39;Carol eats 7 cats.&#39;"
   ]
  },
  {
   "cell_type": "code",
   "execution_count": null,
   "metadata": {},
   "outputs": [],
   "source": []
  },
  {
   "cell_type": "code",
   "execution_count": null,
   "metadata": {},
   "outputs": [],
   "source": []
  }
 ],
 "metadata": {
  "kernelspec": {
   "display_name": "Python 3",
   "language": "python",
   "name": "python3"
  },
  "language_info": {
   "codemirror_mode": {
    "name": "ipython",
    "version": 3
   },
   "file_extension": ".py",
   "mimetype": "text/x-python",
   "name": "python",
   "nbconvert_exporter": "python",
   "pygments_lexer": "ipython3",
   "version": "3.6.5"
  }
 },
 "nbformat": 4,
 "nbformat_minor": 4
}
