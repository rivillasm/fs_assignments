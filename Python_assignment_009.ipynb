{
 "cells": [
  {
   "cell_type": "markdown",
   "metadata": {},
   "source": [
    "# Assignment #9"
   ]
  },
  {
   "cell_type": "markdown",
   "metadata": {},
   "source": [
    "1. To what does a relative path refer?\n",
    "\n",
    "* A relative path refers to a location that is relative to a current directory.\n",
    "\n",
    "    ..\\GUI\\the file gui0001.ipynb  \n"
   ]
  },
  {
   "cell_type": "markdown",
   "metadata": {},
   "source": [
    "2. What does an absolute path start with your operating system?\n",
    "\n",
    "* An absolute path begins with the driver letter \"C\" in this case:\n",
    "      the file's \"gui0001.ipynb\" absolute path is show below:    C:\\Users\\rivil\\DataCampINeuron\\General\\GUI\\gui0001.ipynb\n",
    "* A relative path refers to a location that is relative to a current directory.\n",
    "\n",
    "    ..\\GUI\\the file gui0001.ipynb  \n",
    "\n"
   ]
  },
  {
   "cell_type": "markdown",
   "metadata": {},
   "source": [
    "4. What are the . and .. folders?\n",
    "* . represents the current directory that you are using and .. represents the parent directory."
   ]
  },
  {
   "attachments": {
    "5543080f-dfc1-4163-8283-099ad6e4c803.png": {
     "image/png": "[encoded data removed]"
    },
    "fb3e84bf-efc0-4815-8580-10d874f96ec8.png": {
     "image/png": "[encoded data removed]"
    }
   },
   "cell_type": "markdown",
   "metadata": {},
   "source": [
    "3. What do the functions os.getcwd() and os.chdir() do?\n",
    "\n",
    "* os.getcwd() - is a method from the os library which returns the current working directory of a process\n",
    "![image.png](attachment:fb3e84bf-efc0-4815-8580-10d874f96ec8.png)\n",
    "\n",
    "* os.chdir() - is a method from the os library which changes the current working directory\n",
    "![image.png](attachment:5543080f-dfc1-4163-8283-099ad6e4c803.png)"
   ]
  },
  {
   "cell_type": "markdown",
   "metadata": {},
   "source": [
    "5. In C:\\bacon\\eggs\\spam.txt, which part is the dir name, and which part is the base name?\n",
    "\n",
    "* work space: C:\\bacon\\eggs\\\n",
    "* base name: spam.txt\n"
   ]
  },
  {
   "cell_type": "code",
   "execution_count": 4,
   "metadata": {},
   "outputs": [
    {
     "name": "stdout",
     "output_type": "stream",
     "text": [
      "C:\\Users\\rivil\\DataCampINeuron\\fullstack_assignments\n",
      "C:\\Users\\rivil\\DataCampINeuron\\General\n"
     ]
    }
   ],
   "source": [
    "import os\n",
    "print(os.getcwd())\n",
    "path=\"C:\\\\Users\\\\rivil\\\\DataCampINeuron\\\\General\\\\\"\n",
    "os.chdir(path)\n",
    "print(os.getcwd())\n"
   ]
  },
  {
   "cell_type": "markdown",
   "metadata": {},
   "source": [
    "6. What are the three “mode” arguments that can be passed to the open() function?\n",
    "\n",
    "* parameter mode specified the mode in which the file is opened:\n",
    "    * \"r\" open for reading\n",
    "    * \"w\" open for writing\n",
    "    * \"x\" create a new file\n",
    "    * \"a\" append to the end of the file"
   ]
  },
  {
   "cell_type": "markdown",
   "metadata": {},
   "source": [
    "7. What happens if an existing file is opened in write mode?\n",
    "* the contents of the existing file will be overwritten"
   ]
  },
  {
   "cell_type": "markdown",
   "metadata": {},
   "source": [
    "8. How do you tell the difference between read() and readlines()?\n",
    "* read() - reads the whole file at once as it were a string.\n",
    "* readline() - reads only a single line of the file"
   ]
  },
  {
   "cell_type": "markdown",
   "metadata": {},
   "source": [
    "9. What data structure does a shelf value resemble?\n",
    "* a dictionary - which has keys and values"
   ]
  }
 ],
 "metadata": {
  "kernelspec": {
   "display_name": "Python 3",
   "language": "python",
   "name": "python3"
  },
  "language_info": {
   "codemirror_mode": {
    "name": "ipython",
    "version": 3
   },
   "file_extension": ".py",
   "mimetype": "text/x-python",
   "name": "python",
   "nbconvert_exporter": "python",
   "pygments_lexer": "ipython3",
   "version": "3.6.5"
  }
 },
 "nbformat": 4,
 "nbformat_minor": 4
}
