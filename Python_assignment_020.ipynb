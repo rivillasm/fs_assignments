{
 "cells": [
  {
   "cell_type": "markdown",
   "metadata": {},
   "source": [
    "# assuignment 20"
   ]
  },
  {
   "cell_type": "markdown",
   "metadata": {},
   "source": [
    "##### 1. Set the variable test1 to the string &#39;This is a test of the emergency text system,&#39; and save test1 to a  file named test.txt."
   ]
  },
  {
   "cell_type": "code",
   "execution_count": 1,
   "metadata": {},
   "outputs": [],
   "source": [
    "test1='This is a test of the emergency text system,'\n",
    "f = open(\"test.txt\", \"w\")\n",
    "f.write(test1)\n",
    "f.close()"
   ]
  },
  {
   "attachments": {
    "718f0d9b-2348-4e6c-9ebd-2e9724f77d2a.png": {
     "image/png": "[encoded data removed]"
    }
   },
   "cell_type": "markdown",
   "metadata": {},
   "source": [
    "![image.png](attachment:718f0d9b-2348-4e6c-9ebd-2e9724f77d2a.png)"
   ]
  },
  {
   "cell_type": "markdown",
   "metadata": {},
   "source": [
    "##### 2. Read the contents of the file test.txt into the variable test2. Is there a difference between test 1 and test 2?"
   ]
  },
  {
   "cell_type": "code",
   "execution_count": 2,
   "metadata": {},
   "outputs": [
    {
     "data": {
      "text/plain": [
       "'This is a test of the emergency text system,'"
      ]
     },
     "execution_count": 2,
     "metadata": {},
     "output_type": "execute_result"
    }
   ],
   "source": [
    "f = open(\"test.txt\", \"r\")\n",
    "test2 = f.read()\n",
    "f.close()\n",
    "test2"
   ]
  },
  {
   "cell_type": "code",
   "execution_count": 3,
   "metadata": {},
   "outputs": [
    {
     "name": "stdout",
     "output_type": "stream",
     "text": [
      "Variables are equal!\n"
     ]
    }
   ],
   "source": [
    "if test1 == test2:\n",
    "    print(\"Variables are equal!\")\n",
    "else:\n",
    "    print(\"Variables are NOT equal!\")"
   ]
  },
  {
   "cell_type": "markdown",
   "metadata": {
    "tags": []
   },
   "source": [
    "##### 3. Create a CSV file called books.csv by using these lines:\n",
    "title,author,year\n",
    "The Weirdstone of Brisingamen,Alan Garner,1960\n",
    "Perdido Street Station,China Miéville,2000\n",
    "Thud!,Terry Pratchett,2005\n",
    "The Spellman Files,Lisa Lutz,2007\n",
    "Small Gods,Terry Pratchett,1992"
   ]
  },
  {
   "cell_type": "code",
   "execution_count": 28,
   "metadata": {},
   "outputs": [
    {
     "data": {
      "text/plain": [
       "' title,author,year \\n            The Weirdstone of Brisingamen,Alan Garner,1960 \\n            Perdido Street Station,China Miéville,2000 \\n            Thud!,Terry Pratchett,2005 \\n            The Spellman Files,Lisa Lutz,2007 \\n            Small Gods,Terry Pratchett,1992 '"
      ]
     },
     "execution_count": 28,
     "metadata": {},
     "output_type": "execute_result"
    }
   ],
   "source": [
    "message =\"\"\" title,author,year \n",
    "            The Weirdstone of Brisingamen,Alan Garner,1960 \n",
    "            Perdido Street Station,China Miéville,2000 \n",
    "            Thud!,Terry Pratchett,2005 \n",
    "            The Spellman Files,Lisa Lutz,2007 \n",
    "            Small Gods,Terry Pratchett,1992 \"\"\"\n",
    "message"
   ]
  },
  {
   "cell_type": "code",
   "execution_count": 29,
   "metadata": {},
   "outputs": [
    {
     "data": {
      "text/plain": [
       "[' title,author,year ',\n",
       " '            The Weirdstone of Brisingamen,Alan Garner,1960 ',\n",
       " '            Perdido Street Station,China Miéville,2000 ',\n",
       " '            Thud!,Terry Pratchett,2005 ',\n",
       " '            The Spellman Files,Lisa Lutz,2007 ',\n",
       " '            Small Gods,Terry Pratchett,1992 ']"
      ]
     },
     "execution_count": 29,
     "metadata": {},
     "output_type": "execute_result"
    }
   ],
   "source": [
    "list(message.splitlines())"
   ]
  },
  {
   "cell_type": "code",
   "execution_count": 30,
   "metadata": {},
   "outputs": [],
   "source": [
    "import csv\n",
    "\n",
    "with open('books.csv', 'w') as f:  # open the file in the write mode  \n",
    "    writer = csv.writer(f, delimiter=\"\\n\")         # creates the csv writer\n",
    "    writer.writerow(message.splitlines())          # writes  row to the csv file\n",
    "    \n",
    "f.close()"
   ]
  },
  {
   "cell_type": "markdown",
   "metadata": {},
   "source": [
    "##### 4. Use the sqlite3 module to create a SQLite database called books.db, and a table called books with these fields: title (text), author (text), and year (integer)."
   ]
  },
  {
   "cell_type": "code",
   "execution_count": 2,
   "metadata": {},
   "outputs": [
    {
     "name": "stdout",
     "output_type": "stream",
     "text": [
      "Successfully Connected to SQLite\n",
      "SQLite table created\n",
      "sqlite connection is closed\n"
     ]
    }
   ],
   "source": [
    "import sqlite3     # is in the system by default\n",
    "\n",
    "try:\n",
    "    db = sqlite3.connect(\"books.db\")   # creates a .db file to save data in a structured format\n",
    "                                       # this serves a connection to a local file named .db \n",
    "                                       # file can be saved in several places    \n",
    "    c = db.cursor()                    # creates a pointer\n",
    "    print(\"Successfully Connected to SQLite\")\n",
    "    \n",
    "    # CREATES A TABLE\n",
    "    c.execute(\"CREATE TABLE IF NOT EXISTS books(title TEXT, author TEXT, year INT)\")  \n",
    "    db.commit()\n",
    "    print(\"SQLite table created\")\n",
    "    \n",
    "    c.close()\n",
    "    \n",
    "    \n",
    "except sqlite3.Error as error:\n",
    "    print(\"Error while creating a sqlite table\", error)\n",
    "\n",
    "finally:\n",
    "    if db:\n",
    "        db.close()\n",
    "        print(\"SQlite connection is closed\")   "
   ]
  },
  {
   "cell_type": "markdown",
   "metadata": {},
   "source": [
    "##### 5. Read books.csv and insert its data into the book table."
   ]
  },
  {
   "cell_type": "code",
   "execution_count": 5,
   "metadata": {},
   "outputs": [
    {
     "name": "stdout",
     "output_type": "stream",
     "text": [
      "Successfully Connected to SQLite\n",
      "SQLite table created\n",
      "file successfully read\n",
      "SQlite connection is closed\n"
     ]
    }
   ],
   "source": [
    "import sqlite3     # is in the system by default\n",
    "import csv\n",
    "\n",
    "try:\n",
    "    db = sqlite3.connect(\"books.db\")   # creates a .db file to save data in a structured format\n",
    "                                       # this serves a connection to a local file named .db \n",
    "                                       # file can be saved in several places    \n",
    "    c = db.cursor()                    # creates a pointer\n",
    "    print(\"Successfully Connected to SQLite\")\n",
    "    \n",
    "    # CREATES A TABLE\n",
    "    c.execute(\"CREATE TABLE IF NOT EXISTS books(title TEXT, author TEXT, year INT)\")  \n",
    "    db.commit()\n",
    "    print(\"SQLite table created\")\n",
    "    \n",
    "    # Reads a file\n",
    "    with open(\"books.csv\") as csvfile:\n",
    "        csvreader = csv.reader(csvfile,delimiter=\",\")\n",
    "        next(csvreader)              # This skips the first row of the CSV file with the header.\n",
    "        print(\"file successfully read\")\n",
    "        for row in csvreader:\n",
    "            if(len(row)==3):         # eliminates any line with less than 3 values\n",
    "                c.execute(\"INSERT INTO books VALUES (?, ?, ?)\", (str(row[0]), str(row[1]), int(row[2])))\n",
    "\n",
    "    \n",
    "    c.close()\n",
    "    \n",
    "    \n",
    "except sqlite3.Error as error:\n",
    "    print(\"Error while creating a sqlite table\", error)\n",
    "\n",
    "finally:\n",
    "    if db:\n",
    "        db.close()\n",
    "        print(\"SQlite connection is closed\") "
   ]
  },
  {
   "attachments": {
    "ab697798-8986-4cbb-89ed-de7ec1eaebc7.png": {
     "image/png": "[encoded data removed]"
    }
   },
   "cell_type": "markdown",
   "metadata": {},
   "source": [
    "![image.png](attachment:ab697798-8986-4cbb-89ed-de7ec1eaebc7.png)"
   ]
  },
  {
   "cell_type": "markdown",
   "metadata": {},
   "source": [
    "##### 6. Select and print the title column from the book table in alphabetical order."
   ]
  },
  {
   "cell_type": "code",
   "execution_count": 6,
   "metadata": {},
   "outputs": [
    {
     "name": "stdout",
     "output_type": "stream",
     "text": [
      "Successfully Connected to SQLite\n",
      "SQLite table created\n",
      "file successfully read\n",
      "Database successfully queried\n",
      "('            Perdido Street Station',)\n",
      "('            Small Gods',)\n",
      "('            The Spellman Files',)\n",
      "('            The Weirdstone of Brisingamen',)\n",
      "('            Thud!',)\n",
      "SQlite connection is closed\n"
     ]
    }
   ],
   "source": [
    "import sqlite3     # is in the system by default\n",
    "import csv\n",
    "\n",
    "try:\n",
    "    db = sqlite3.connect(\"books.db\")   # creates a .db file to save data in a structured format\n",
    "                                       # this serves a connection to a local file named .db \n",
    "                                       # file can be saved in several places    \n",
    "    c = db.cursor()                    # creates a pointer\n",
    "    print(\"Successfully Connected to SQLite\")\n",
    "    \n",
    "    # CREATES A TABLE\n",
    "    c.execute(\"CREATE TABLE IF NOT EXISTS books(title TEXT, author TEXT, year INT)\")  \n",
    "    db.commit()\n",
    "    print(\"SQLite table created\")\n",
    "    \n",
    "    # **** reads a file ***\n",
    "    with open(\"books.csv\") as csvfile:\n",
    "        csvreader = csv.reader(csvfile,delimiter=\",\")\n",
    "        next(csvreader)              # This skips the first row of the CSV file with the header.\n",
    "        print(\"file successfully read\")\n",
    "        for row in csvreader:\n",
    "            if(len(row)==3):         # eliminates any line with less than 3 values\n",
    "                c.execute(\"INSERT INTO books VALUES (?, ?, ?)\", (str(row[0]), str(row[1]), int(row[2])))\n",
    "\n",
    "                \n",
    "    # *** queries a database  ***\n",
    "    c.execute(\"SELECT title FROM books ORDER BY title ASC\")\n",
    "    myresult = c.fetchall()\n",
    "    print(\"Database successfully queried\")\n",
    "    for x in myresult:\n",
    "        print(x)\n",
    "    \n",
    "    c.close()\n",
    "    \n",
    "    \n",
    "except sqlite3.Error as error:\n",
    "    print(\"Error while creating a sqlite table\", error)\n",
    "\n",
    "finally:\n",
    "    if db:\n",
    "        db.close()\n",
    "        print(\"SQlite connection is closed\") "
   ]
  },
  {
   "cell_type": "markdown",
   "metadata": {},
   "source": [
    "##### 7. From the book table, select and print all columns in the order of publication."
   ]
  },
  {
   "cell_type": "code",
   "execution_count": 7,
   "metadata": {},
   "outputs": [
    {
     "name": "stdout",
     "output_type": "stream",
     "text": [
      "Successfully Connected to SQLite\n",
      "SQLite table created\n",
      "file successfully read\n",
      "Database successfully queried\n",
      "('            The Weirdstone of Brisingamen', 'Alan Garner', 1960)\n",
      "('            Small Gods', 'Terry Pratchett', 1992)\n",
      "('            Perdido Street Station', 'China Miéville', 2000)\n",
      "('            Thud!', 'Terry Pratchett', 2005)\n",
      "('            The Spellman Files', 'Lisa Lutz', 2007)\n",
      "SQlite connection is closed\n"
     ]
    }
   ],
   "source": [
    "import sqlite3     # is in the system by default\n",
    "import csv\n",
    "\n",
    "try:\n",
    "    db = sqlite3.connect(\"books.db\")   # creates a .db file to save data in a structured format\n",
    "                                       # this serves a connection to a local file named .db \n",
    "                                       # file can be saved in several places    \n",
    "    c = db.cursor()                    # creates a pointer\n",
    "    print(\"Successfully Connected to SQLite\")\n",
    "    \n",
    "    # CREATES A TABLE\n",
    "    c.execute(\"CREATE TABLE IF NOT EXISTS books(title TEXT, author TEXT, year INT)\")  \n",
    "    db.commit()\n",
    "    print(\"SQLite table created\")\n",
    "    \n",
    "    # **** reads a file ***\n",
    "    with open(\"books.csv\") as csvfile:\n",
    "        csvreader = csv.reader(csvfile,delimiter=\",\")\n",
    "        next(csvreader)              # This skips the first row of the CSV file with the header.\n",
    "        print(\"file successfully read\")\n",
    "        for row in csvreader:\n",
    "            if(len(row)==3):         # eliminates any line with less than 3 values\n",
    "                c.execute(\"INSERT INTO books VALUES (?, ?, ?)\", (str(row[0]), str(row[1]), int(row[2])))\n",
    "\n",
    "                \n",
    "    # *** queries a database  ***\n",
    "    c.execute(\"SELECT * FROM books ORDER BY year ASC\")\n",
    "    myresult = c.fetchall()\n",
    "    print(\"Database successfully queried\")\n",
    "    for x in myresult:\n",
    "        print(x)\n",
    "    \n",
    "    c.close()\n",
    "    \n",
    "    \n",
    "except sqlite3.Error as error:\n",
    "    print(\"Error while creating a sqlite table\", error)\n",
    "\n",
    "finally:\n",
    "    if db:\n",
    "        db.close()\n",
    "        print(\"SQlite connection is closed\") "
   ]
  },
  {
   "cell_type": "markdown",
   "metadata": {},
   "source": [
    "##### 8. Use the sqlalchemy module to connect to the sqlite3 database books.db that you just made in exercise 6."
   ]
  },
  {
   "cell_type": "code",
   "execution_count": 10,
   "metadata": {},
   "outputs": [
    {
     "name": "stdout",
     "output_type": "stream",
     "text": [
      "['books']\n"
     ]
    }
   ],
   "source": [
    "from sqlalchemy import create_engine as ce\n",
    "engine = ce('sqlite:///books.db')\n",
    "connection = engine.connect()\n",
    "print(engine.table_names())"
   ]
  },
  {
   "cell_type": "markdown",
   "metadata": {},
   "source": [
    "##### 9. Install the Redis server and the Python redis library (pip install redis) on your computer. Create a Redis hash called test with the fields count (1) and name (&#39;Fester Bestertester&#39;). Print all the fields for test."
   ]
  },
  {
   "cell_type": "code",
   "execution_count": 12,
   "metadata": {},
   "outputs": [
    {
     "name": "stdout",
     "output_type": "stream",
     "text": [
      "Collecting redis\n",
      "  Using cached redis-4.2.1-py3-none-any.whl (225 kB)\n",
      "Requirement already satisfied: importlib-metadata>=1.0 in c:\\programdata\\anaconda3\\lib\\site-packages (from redis) (3.4.0)\n",
      "Collecting async-timeout>=4.0.2\n",
      "  Using cached async_timeout-4.0.2-py3-none-any.whl (5.8 kB)\n",
      "Collecting deprecated>=1.2.3\n",
      "  Using cached Deprecated-1.2.13-py2.py3-none-any.whl (9.6 kB)\n",
      "Requirement already satisfied: typing-extensions in c:\\programdata\\anaconda3\\lib\\site-packages (from redis) (3.7.4.3)\n",
      "Collecting packaging>=20.4\n",
      "  Using cached packaging-21.3-py3-none-any.whl (40 kB)\n",
      "Requirement already satisfied: wrapt<2,>=1.10 in c:\\users\\rivil\\appdata\\roaming\\python\\python36\\site-packages (from deprecated>=1.2.3->redis) (1.12.1)\n",
      "Requirement already satisfied: zipp>=0.5 in c:\\programdata\\anaconda3\\lib\\site-packages (from importlib-metadata>=1.0->redis) (3.4.0)\n",
      "Requirement already satisfied: pyparsing!=3.0.5,>=2.0.2 in c:\\programdata\\anaconda3\\lib\\site-packages (from packaging>=20.4->redis) (2.2.0)\n",
      "Installing collected packages: packaging, deprecated, async-timeout, redis\n",
      "Successfully installed async-timeout-4.0.2 deprecated-1.2.13 packaging-21.3 redis-4.2.1\n"
     ]
    },
    {
     "name": "stderr",
     "output_type": "stream",
     "text": [
      "WARNING: You are using pip version 21.0.1; however, version 21.3.1 is available.\n",
      "You should consider upgrading via the 'c:\\programdata\\anaconda3\\python.exe -m pip install --upgrade pip' command.\n"
     ]
    }
   ],
   "source": [
    "!pip install redis --user"
   ]
  },
  {
   "attachments": {
    "ecb758a9-f22b-40c4-b75b-f0ede58b4a2c.png": {
     "image/png": "[encoded data removed]"
    }
   },
   "cell_type": "markdown",
   "metadata": {},
   "source": [
    "##### https://riptutorial.com/redis/example/29962/installing-and-running-redis-server-on-windows\n",
    "![image.png](attachment:ecb758a9-f22b-40c4-b75b-f0ede58b4a2c.png)"
   ]
  },
  {
   "cell_type": "code",
   "execution_count": 3,
   "metadata": {},
   "outputs": [
    {
     "name": "stdout",
     "output_type": "stream",
     "text": [
      "b'1'\n",
      "b'Fester Besterterster'\n"
     ]
    }
   ],
   "source": [
    "import redis\n",
    "\n",
    "# instanciate the object, tries to connect to the redis server running in your local machine\n",
    "# but you can explicitly give the host and the port \n",
    "test=redis.Redis(host='localhost',port=6379)\n",
    "\n",
    "test.set(\"count\",1)\n",
    "test.set(\"name\",\"Fester Besterterster\")\n",
    "\n",
    "print(test.get(\"count\"))\n",
    "print(test.get(\"name\"))"
   ]
  },
  {
   "cell_type": "code",
   "execution_count": 8,
   "metadata": {},
   "outputs": [
    {
     "name": "stdout",
     "output_type": "stream",
     "text": [
      "[b'1', b'Fester Besterterster']\n"
     ]
    }
   ],
   "source": [
    "test1=redis.Redis(host='localhost',port=6379)\n",
    "test1.mset({\"count\":1,\"name\":\"Fester Besterterster\"})\n",
    "print(test1.mget(\"count\",\"name\"))"
   ]
  },
  {
   "cell_type": "code",
   "execution_count": 10,
   "metadata": {},
   "outputs": [
    {
     "data": {
      "text/plain": [
       "[b'name', b'count']"
      ]
     },
     "execution_count": 10,
     "metadata": {},
     "output_type": "execute_result"
    }
   ],
   "source": [
    "test1.keys('*')   # find the existing keys"
   ]
  },
  {
   "cell_type": "markdown",
   "metadata": {},
   "source": [
    "##### 10. Increment the count field of test and print it."
   ]
  },
  {
   "cell_type": "code",
   "execution_count": 11,
   "metadata": {},
   "outputs": [
    {
     "name": "stdout",
     "output_type": "stream",
     "text": [
      "[b'1', b'Fester Besterterster']\n",
      "[b'2', b'Fester Besterterster']\n"
     ]
    }
   ],
   "source": [
    "print(test1.mget(\"count\",\"name\"))\n",
    "test1.incr(\"count\")\n",
    "print(test1.mget(\"count\",\"name\"))\n"
   ]
  },
  {
   "cell_type": "code",
   "execution_count": 12,
   "metadata": {},
   "outputs": [
    {
     "name": "stdout",
     "output_type": "stream",
     "text": [
      "[b'2', b'Fester Besterterster']\n",
      "[b'1', b'Fester Besterterster']\n"
     ]
    }
   ],
   "source": [
    "print(test1.mget(\"count\",\"name\"))\n",
    "test1.decr(\"count\")\n",
    "print(test1.mget(\"count\",\"name\"))"
   ]
  },
  {
   "cell_type": "code",
   "execution_count": null,
   "metadata": {},
   "outputs": [],
   "source": []
  }
 ],
 "metadata": {
  "kernelspec": {
   "display_name": "Python 3",
   "language": "python",
   "name": "python3"
  },
  "language_info": {
   "codemirror_mode": {
    "name": "ipython",
    "version": 3
   },
   "file_extension": ".py",
   "mimetype": "text/x-python",
   "name": "python",
   "nbconvert_exporter": "python",
   "pygments_lexer": "ipython3",
   "version": "3.6.5"
  }
 },
 "nbformat": 4,
 "nbformat_minor": 4
}
