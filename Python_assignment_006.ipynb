{
 "cells": [
  {
   "cell_type": "markdown",
   "metadata": {},
   "source": [
    "# PYTHON BASICS - Assignment 006"
   ]
  },
  {
   "cell_type": "markdown",
   "metadata": {},
   "source": [
    "1. What are escape characters, and how do you use them?\n"
   ]
  },
  {
   "cell_type": "code",
   "execution_count": null,
   "metadata": {},
   "outputs": [],
   "source": [
    "# characters that have a special meaning when used in a string  \n",
    "# for example in a print statement i have to use ither single or double quotes only, if i want\n",
    "# to mix them up in the same string sentence then i need to use the escape character back \n",
    "# slash in this case\n",
    "\\' Single Quote\n",
    "\\\\ Backslash\n",
    "\\n New Line\n",
    "\\r Carriage Return\n",
    "\\t Tab\n",
    "\\b Backspace\n",
    "\\f Form Feed\n",
    "\\ooo Octal value\n",
    "\\xhh Hex value"
   ]
  },
  {
   "cell_type": "markdown",
   "metadata": {},
   "source": [
    "2. What do the escape characters n and t stand for?\n"
   ]
  },
  {
   "cell_type": "code",
   "execution_count": null,
   "metadata": {},
   "outputs": [],
   "source": [
    "n for new line\n",
    "t for tabular format"
   ]
  },
  {
   "cell_type": "markdown",
   "metadata": {},
   "source": [
    "3. What is the way to include backslash characters in a string?\n"
   ]
  },
  {
   "cell_type": "code",
   "execution_count": 2,
   "metadata": {},
   "outputs": [
    {
     "name": "stdout",
     "output_type": "stream",
     "text": [
      "ivillas\n"
     ]
    }
   ],
   "source": [
    "print(\"\\rivillas\")  "
   ]
  },
  {
   "cell_type": "code",
   "execution_count": 3,
   "metadata": {},
   "outputs": [
    {
     "name": "stdout",
     "output_type": "stream",
     "text": [
      "\\rivillas\n"
     ]
    }
   ],
   "source": [
    "print(\"\\\\rivillas\") # right way to include backslash character in a string, using the \\ escape character"
   ]
  },
  {
   "cell_type": "markdown",
   "metadata": {},
   "source": [
    "4. The string &quot;Howl&#39;s Moving Castle&quot; is a correct value. Why isn&#39;t the single quote character in the\n",
    "word Howl&#39;s not escaped a problem?\n"
   ]
  },
  {
   "cell_type": "raw",
   "metadata": {},
   "source": [
    "because python uderstand that the string is identified with double quotes, therefore the single quoute in the middle is ok, if i would instead use a double quote in the middle then python will complaint."
   ]
  },
  {
   "cell_type": "markdown",
   "metadata": {},
   "source": [
    "5. How do you write a string of newlines if you don&#39;t want to use the n character?\n"
   ]
  },
  {
   "cell_type": "raw",
   "metadata": {},
   "source": [
    "using the docstrings"
   ]
  },
  {
   "cell_type": "code",
   "execution_count": 33,
   "metadata": {},
   "outputs": [
    {
     "name": "stdout",
     "output_type": "stream",
     "text": [
      "mario \n",
      "rivillas\n",
      "ospina\n"
     ]
    }
   ],
   "source": [
    "print (\"\"\"mario \n",
    "rivillas\n",
    "ospina\"\"\")"
   ]
  },
  {
   "cell_type": "markdown",
   "metadata": {},
   "source": [
    "6. What are the values of the given expressions?"
   ]
  },
  {
   "cell_type": "markdown",
   "metadata": {},
   "source": [
    "* &#39;Hello, world!&#39;[1]   - e\n",
    "* &#39;Hello, world!&#39;[0:5] - Hello\n",
    "* &#39;Hello, world!&#39;[:5]  - Hello\n",
    "* &#39;Hello, world!&#39;[3:]  - lo, world!"
   ]
  },
  {
   "cell_type": "markdown",
   "metadata": {},
   "source": [
    "7. What are the values of the following expressions?\n",
    "* &#39;Hello&#39;.upper() - HELLO\n",
    "* &#39;Hello&#39;.upper().isupper() - True\n",
    "* &#39;Hello&#39;.upper().lower() - hello\n"
   ]
  },
  {
   "cell_type": "markdown",
   "metadata": {},
   "source": [
    "8. What are the values of the following expressions?\n",
    "* &#39;Remember, remember, the fifth of July.&#39;.split() \n",
    "\n",
    "The split function separates the string sentence based on the blanks character (default parameter) and creates a list with the separated words.\n",
    "\n",
    "Output - ['Remember,', 'remember,', 'the', 'fifth', 'of', 'July.']\n",
    "\n",
    "* &#39;-&#39;.join(&#39;There can only one.&#39;.split())\n",
    "\n",
    "The split function separates the string based on the blancks character, creates a list of those separated words, then the join function creates a string from the list where each word gets separated by a dash'-'\n",
    "\n",
    "Ouput:'There-can-only-one.'\n"
   ]
  },
  {
   "cell_type": "markdown",
   "metadata": {},
   "source": [
    "9. What are the methods for right-justifying, left-justifying, and centering a string?\n"
   ]
  },
  {
   "cell_type": "code",
   "execution_count": 44,
   "metadata": {},
   "outputs": [
    {
     "data": {
      "text/plain": [
       "'mario     '"
      ]
     },
     "execution_count": 44,
     "metadata": {},
     "output_type": "execute_result"
    }
   ],
   "source": [
    "# str.ljust(s, width[, fillchar]) - lesft justifying\n",
    "str.ljust(\"mario\", 10)\n"
   ]
  },
  {
   "cell_type": "code",
   "execution_count": 45,
   "metadata": {},
   "outputs": [
    {
     "data": {
      "text/plain": [
       "'     mario'"
      ]
     },
     "execution_count": 45,
     "metadata": {},
     "output_type": "execute_result"
    }
   ],
   "source": [
    "# str.rjust(s, width[, fillchar]) - right justifying\n",
    "str.rjust(\"mario\", 10)"
   ]
  },
  {
   "cell_type": "code",
   "execution_count": 46,
   "metadata": {},
   "outputs": [
    {
     "data": {
      "text/plain": [
       "'  mario   '"
      ]
     },
     "execution_count": 46,
     "metadata": {},
     "output_type": "execute_result"
    }
   ],
   "source": [
    "# str.center(s, width[, fillchar]) - center justyfying\n",
    "str.center(\"mario\", 10)"
   ]
  },
  {
   "cell_type": "markdown",
   "metadata": {},
   "source": [
    "10. What is the best way to remove whitespace characters from the start or end?"
   ]
  },
  {
   "attachments": {
    "ad620194-645a-4a73-8ed5-9167793d1c70.png": {
     "image/png": "[encoded data removed]"
    }
   },
   "cell_type": "markdown",
   "metadata": {},
   "source": [
    "![image.png](attachment:ad620194-645a-4a73-8ed5-9167793d1c70.png)"
   ]
  },
  {
   "cell_type": "code",
   "execution_count": 47,
   "metadata": {},
   "outputs": [
    {
     "data": {
      "text/plain": [
       "'mario rivillas'"
      ]
     },
     "execution_count": 47,
     "metadata": {},
     "output_type": "execute_result"
    }
   ],
   "source": [
    "str = '  mario rivillas   '\n",
    "  \n",
    "#strip any white space characters\n",
    "str_any = str.strip()\n",
    "str_any"
   ]
  },
  {
   "cell_type": "code",
   "execution_count": 49,
   "metadata": {},
   "outputs": [
    {
     "data": {
      "text/plain": [
       "'  mario rivillas'"
      ]
     },
     "execution_count": 49,
     "metadata": {},
     "output_type": "execute_result"
    }
   ],
   "source": [
    "## strip the Spaces from the right\n",
    "str_r = str.rstrip()\n",
    "str_r"
   ]
  },
  {
   "cell_type": "code",
   "execution_count": 50,
   "metadata": {},
   "outputs": [
    {
     "data": {
      "text/plain": [
       "'mario rivillas   '"
      ]
     },
     "execution_count": 50,
     "metadata": {},
     "output_type": "execute_result"
    }
   ],
   "source": [
    "## strip Spaces from the left\n",
    "str_l = str.lstrip()\n",
    "str_l"
   ]
  }
 ],
 "metadata": {
  "kernelspec": {
   "display_name": "Python 3",
   "language": "python",
   "name": "python3"
  },
  "language_info": {
   "codemirror_mode": {
    "name": "ipython",
    "version": 3
   },
   "file_extension": ".py",
   "mimetype": "text/x-python",
   "name": "python",
   "nbconvert_exporter": "python",
   "pygments_lexer": "ipython3",
   "version": "3.6.5"
  }
 },
 "nbformat": 4,
 "nbformat_minor": 4
}
